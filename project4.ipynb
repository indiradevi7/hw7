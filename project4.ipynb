{
 "cells": [
  {
   "cell_type": "code",
   "execution_count": 1,
   "id": "52ede97e",
   "metadata": {},
   "outputs": [],
   "source": [
    "class Node:\n",
    "    def __init__(self, data):\n",
    "        self.data = data\n",
    "        self.left = None\n",
    "        self.right = None\n",
    "\n",
    "\n",
    "class LinkedBST:\n",
    "    def __init__(self):\n",
    "        self.root = None\n",
    "\n",
    "    def insert(self, data):\n",
    "        if self.root is None:\n",
    "            self.root = Node(data)\n",
    "        else:\n",
    "            self._insert_recursive(data, self.root)\n",
    "\n",
    "    def _insert_recursive(self, data, node):\n",
    "        if data < node.data:\n",
    "            if node.left is None:\n",
    "                node.left = Node(data)\n",
    "            else:\n",
    "                self._insert_recursive(data, node.left)\n",
    "        elif data > node.data:\n",
    "            if node.right is None:\n",
    "                node.right = Node(data)\n",
    "            else:\n",
    "                self._insert_recursive(data, node.right)\n",
    "\n",
    "    def successor(self, item):\n",
    "        current = self.root\n",
    "        successor = None\n",
    "\n",
    "        while current is not None:\n",
    "            if current.data > item:\n",
    "                successor = current.data\n",
    "                current = current.left\n",
    "            else:\n",
    "                current = current.right\n",
    "\n",
    "        return successor\n",
    "\n",
    "    def predecessor(self, item):\n",
    "        current = self.root\n",
    "        predecessor = None\n",
    "\n",
    "        while current is not None:\n",
    "            if current.data < item:\n",
    "                predecessor = current.data\n",
    "                current = current.right\n",
    "            else:\n",
    "                current = current.left\n",
    "\n",
    "        return predecessor\n"
   ]
  },
  {
   "cell_type": "code",
   "execution_count": null,
   "id": "45087c7a",
   "metadata": {},
   "outputs": [],
   "source": []
  }
 ],
 "metadata": {
  "kernelspec": {
   "display_name": "Python 3 (ipykernel)",
   "language": "python",
   "name": "python3"
  },
  "language_info": {
   "codemirror_mode": {
    "name": "ipython",
    "version": 3
   },
   "file_extension": ".py",
   "mimetype": "text/x-python",
   "name": "python",
   "nbconvert_exporter": "python",
   "pygments_lexer": "ipython3",
   "version": "3.11.4"
  }
 },
 "nbformat": 4,
 "nbformat_minor": 5
}
